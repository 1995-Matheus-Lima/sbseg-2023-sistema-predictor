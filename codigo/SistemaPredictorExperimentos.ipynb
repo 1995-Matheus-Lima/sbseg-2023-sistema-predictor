{
  "cells": [
    {
      "cell_type": "markdown",
      "id": "4e3c91ac",
      "metadata": {
        "id": "4e3c91ac"
      },
      "source": [
        "#Importação de bibliotecas e funções"
      ]
    },
    {
      "cell_type": "code",
      "source": [
        "from sklearn.svm import OneClassSVM\n",
        "from sklearn.metrics import confusion_matrix\n",
        "import pandas as pd\n",
        "from matplotlib import pyplot as plt\n",
        "from sklearn.metrics import classification_report"
      ],
      "metadata": {
        "id": "bno-wuuaqwpX"
      },
      "id": "bno-wuuaqwpX",
      "execution_count": 1,
      "outputs": []
    },
    {
      "cell_type": "markdown",
      "source": [
        "#Experimento 1 - CTU-13 (Captura 51)"
      ],
      "metadata": {
        "id": "b0Ggsa7prLRL"
      },
      "id": "b0Ggsa7prLRL"
    },
    {
      "cell_type": "code",
      "execution_count": 2,
      "id": "5ee2cc20",
      "metadata": {
        "colab": {
          "base_uri": "https://localhost:8080/"
        },
        "id": "5ee2cc20",
        "outputId": "e1b8459f-61e0-401b-8d99-02281cb89ef7"
      },
      "outputs": [
        {
          "output_type": "stream",
          "name": "stdout",
          "text": [
            "[[2467   15]\n",
            " [ 214    2]]\n",
            "              precision    recall  f1-score   support\n",
            "\n",
            "           0     0.9202    0.9940    0.9556      2482\n",
            "           1     0.1176    0.0093    0.0172       216\n",
            "\n",
            "    accuracy                         0.9151      2698\n",
            "   macro avg     0.5189    0.5016    0.4864      2698\n",
            "weighted avg     0.8559    0.9151    0.8805      2698\n",
            "\n"
          ]
        }
      ],
      "source": [
        "early_warning_url = \"cap_51_outlier_10.csv\"\n",
        "early_warning = pd.read_csv(early_warning_url, sep=\";\")\n",
        "file = \"10\"\n",
        "colunas = [file+'_kurt_total_ips_origem',\n",
        "           file+'_skw_total_ips_origem',\n",
        "           file+'_coefficient_variation_total_ips_origem',\n",
        "           file+'_kurt_total_ips_destino',\n",
        "           file+'_skw_total_ips_destino',\n",
        "           file+'_coefficient_variation_total_ips_destino',\n",
        "           file+'_kurt_total_pacotes',\n",
        "           file+'_skw_total_pacotes',\n",
        "           file+'_coefficient_variation_total_pacotes',\n",
        "              ]\n",
        "df = early_warning[colunas]\n",
        "label = early_warning['has_bot']\n",
        "\n",
        "init = 880\n",
        "train = 2934\n",
        "end = 5632\n",
        "\n",
        "x_train = df[init:train]\n",
        "x_test = df[train:end]\n",
        "y_real = label[train:end]\n",
        "clf = OneClassSVM(gamma='auto', kernel='poly', nu=0.325).fit(x_train)\n",
        "y_test = clf.predict(x_test)\n",
        "y_test_final = [0 if i == 1 else 1 for i in y_test]\n",
        "print(confusion_matrix(y_real, y_test_final))\n",
        "print(classification_report(y_real, y_test_final, digits = 4))"
      ]
    },
    {
      "cell_type": "markdown",
      "source": [
        "#Experimento 2 - CIC-DDoS2019"
      ],
      "metadata": {
        "id": "eT-B2i1yrfWq"
      },
      "id": "eT-B2i1yrfWq"
    },
    {
      "cell_type": "code",
      "execution_count": 3,
      "id": "48aeaf10",
      "metadata": {
        "colab": {
          "base_uri": "https://localhost:8080/"
        },
        "id": "48aeaf10",
        "outputId": "69100c47-4e92-475c-bc64-e9e871a3af84"
      },
      "outputs": [
        {
          "output_type": "stream",
          "name": "stdout",
          "text": [
            "[[536  24]\n",
            " [243   7]]\n",
            "              precision    recall  f1-score   support\n",
            "\n",
            "           0     0.6881    0.9571    0.8006       560\n",
            "           1     0.2258    0.0280    0.0498       250\n",
            "\n",
            "    accuracy                         0.6704       810\n",
            "   macro avg     0.4569    0.4926    0.4252       810\n",
            "weighted avg     0.5454    0.6704    0.5689       810\n",
            "\n"
          ]
        }
      ],
      "source": [
        "early_warning_url = \"cicddos_outlier_10.csv\"\n",
        "early_warning = pd.read_csv(early_warning_url, sep=\";\")\n",
        "file = \"10\"\n",
        "colunas = [file+'_kurt_total_ips_origem',\n",
        "           file+'_skw_total_ips_origem',\n",
        "           file+'_coefficient_variation_total_ips_origem',\n",
        "           file+'_kurt_total_ips_destino',\n",
        "           file+'_skw_total_ips_destino',\n",
        "           file+'_coefficient_variation_total_ips_destino',\n",
        "           file+'_kurt_total_pacotes',\n",
        "           file+'_skw_total_pacotes',\n",
        "           file+'_coefficient_variation_total_pacotes']\n",
        "\n",
        "df = early_warning[colunas]\n",
        "label = early_warning['has_bot']\n",
        "\n",
        "init = 202\n",
        "train = 674\n",
        "end = 1484\n",
        "x_train = df[init:train]\n",
        "x_test = df[train:end]\n",
        "y_real = label[train:end]\n",
        "\n",
        "clf = OneClassSVM(gamma='auto',kernel='poly',  nu = 0.13).fit(x_train)\n",
        "\n",
        "y_test = clf.predict(x_test)\n",
        "y_test_final = [0 if i == 1 else 1 for i in y_test]\n",
        "print(confusion_matrix(y_real, y_test_final))\n",
        "print(classification_report(y_real, y_test_final, digits = 4))"
      ]
    }
  ],
  "metadata": {
    "kernelspec": {
      "display_name": "Python 3 (ipykernel)",
      "language": "python",
      "name": "python3"
    },
    "language_info": {
      "codemirror_mode": {
        "name": "ipython",
        "version": 3
      },
      "file_extension": ".py",
      "mimetype": "text/x-python",
      "name": "python",
      "nbconvert_exporter": "python",
      "pygments_lexer": "ipython3",
      "version": "3.10.12"
    },
    "colab": {
      "provenance": []
    }
  },
  "nbformat": 4,
  "nbformat_minor": 5
}